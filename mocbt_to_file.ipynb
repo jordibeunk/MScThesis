{
 "cells": [
  {
   "cell_type": "code",
   "execution_count": 1,
   "id": "e6a6093d-0dc0-4c31-889b-8d3e9345dbac",
   "metadata": {},
   "outputs": [],
   "source": [
    "import jCMIP as jc\n",
    "Clist = jc.readList(('CMIP6listnew'))\n",
    "\n",
    "from netCDF4 import Dataset\n",
    "from netCDF4 import num2date\n",
    "import numpy as np\n",
    "from scipy.integrate import quad\n",
    "import matplotlib.pyplot as plt\n",
    "import cftime\n",
    "import gsw\n",
    "from datetime import date, timedelta\n",
    "import pandas as pd"
   ]
  },
  {
   "cell_type": "markdown",
   "id": "715ccab9-ae1b-4d6b-93e7-6aa02371c4d9",
   "metadata": {
    "jp-MarkdownHeadingCollapsed": true,
    "tags": []
   },
   "source": [
    "#### Compute historical stream function"
   ]
  },
  {
   "cell_type": "code",
   "execution_count": 2,
   "id": "b8f759ce-5256-4dc1-b730-a76e40694f83",
   "metadata": {},
   "outputs": [
    {
     "name": "stderr",
     "output_type": "stream",
     "text": [
      "/home/users/jmecking001/miniconda3/envs/jordi_2021/lib/python3.7/site-packages/ipykernel_launcher.py:14: RuntimeWarning: Mean of empty slice\n",
      "  \n"
     ]
    }
   ],
   "source": [
    "totmod =  ['CAMS-CSM1-0','CAS-ESM2-0','CESM2-WACCM','CIESM','CMCC-CM2-SR5','CMCC-ESM2','CNRM-CM6-1','CNRM-ESM2-1','CanESM5','EC-Earth3','FIO-ESM-2-0',\n",
    "            'HadGEM3-GC31-LL','HadGEM3-GC31-MM','IPSL-CM6A-LR','MPI-ESM1-2-HR','MPI-ESM1-2-LR','MRI-ESM2-0','NESM3','UKESM1-0-LL']\n",
    "ENS    =  ['r1i1p1f1','r1i1p1f1','r1i1p1f1','r1i1p1f1','r1i1p1f1','r1i1p1f1','r1i1p1f2','r2i1p1f2','r1i1p1f1','r1i1p1f1','r1i1p1f1','r1i1p1f3',\n",
    "           'r1i1p1f3','r1i1p1f1','r1i1p1f1','r1i1p1f1','r1i1p1f1','r1i1p1f1','r1i1p1f2']\n",
    "EXP    = 'historical'\n",
    "\n",
    "for i in range (len(totmod)):\n",
    "    outfile = ('/home/users/jordi/section26data/' + totmod[i] + '_' + EXP + '_' + ENS[i] + '.nc')\n",
    "    ncid = Dataset(outfile,'r')\n",
    "    lev = ncid.variables['lev'][:]\n",
    "    tp10 = ncid.variables['tp10_BS'][:,:,:]\n",
    "    ncid.close()\n",
    "\n",
    "    tp10mean = np.nanmean(tp10,axis=0)\n",
    "    tp10row  = np.nansum(tp10mean,axis=1)\n",
    "    mocbt10    = -1*np.cumsum(tp10row[::-1])[::-1]\n",
    "    \n",
    "    outfile = ('/home/users/jordi/mocbt10_BS.nc')\n",
    "    if i == 0:\n",
    "        ncid = Dataset(outfile,'w')\n",
    "    else:\n",
    "        ncid = Dataset(outfile,'a')\n",
    "\n",
    "    ncid.createDimension(totmod[i],len(mocbt10))\n",
    "    ncid.createVariable(totmod[i],'f8', (totmod[i],))\n",
    "    ncid.variables[totmod[i]][:]  = mocbt10\n",
    "    ncid.close()"
   ]
  },
  {
   "cell_type": "markdown",
   "id": "8017103c-5c89-4e69-bb9e-28ff0c904096",
   "metadata": {
    "jp-MarkdownHeadingCollapsed": true,
    "tags": []
   },
   "source": [
    "#### Compute stream function for the last decade of SSP585"
   ]
  },
  {
   "cell_type": "code",
   "execution_count": 5,
   "id": "5857cccb-6710-45ac-8980-fd3089ed8b88",
   "metadata": {},
   "outputs": [
    {
     "name": "stderr",
     "output_type": "stream",
     "text": [
      "/home/users/jmecking001/miniconda3/envs/jordi_2021/lib/python3.7/site-packages/ipykernel_launcher.py:14: RuntimeWarning: Mean of empty slice\n",
      "  \n"
     ]
    }
   ],
   "source": [
    "totmod =  ['CAMS-CSM1-0','CAS-ESM2-0','CESM2-WACCM','CIESM','CMCC-CM2-SR5','CMCC-ESM2','CNRM-CM6-1','CanESM5','EC-Earth3','FIO-ESM-2-0',\n",
    "            'HadGEM3-GC31-LL','HadGEM3-GC31-MM','IPSL-CM6A-LR','MPI-ESM1-2-HR','MPI-ESM1-2-LR','MRI-ESM2-0','NESM3','UKESM1-0-LL']\n",
    "ENS    =  ['r1i1p1f1','r1i1p1f1','r1i1p1f1','r1i1p1f1','r1i1p1f1','r1i1p1f1','r1i1p1f2','r1i1p1f1','r1i1p1f1','r1i1p1f1','r1i1p1f3',\n",
    "           'r1i1p1f3','r1i1p1f1','r1i1p1f1','r1i1p1f1','r1i1p1f1','r1i1p1f1','r1i1p1f2']\n",
    "EXP    = 'ssp585'\n",
    "\n",
    "for i in range (len(totmod)):\n",
    "    outfile = ('/home/users/jordi/section26data/' + totmod[i] + '_' + EXP + '_' + ENS[i] + '.nc')\n",
    "    ncid = Dataset(outfile,'r')\n",
    "    lev = ncid.variables['lev'][:]\n",
    "    tp99 = ncid.variables['tp85_BS'][-120::,:,:]\n",
    "    ncid.close()\n",
    "\n",
    "    tp99mean = np.nanmean(tp99,axis=0)\n",
    "    tp99row  = np.nansum(tp99mean,axis=1)\n",
    "    mocbt99    = -1*np.cumsum(tp99row[::-1])[::-1]\n",
    "    \n",
    "    outfile = ('/home/users/jordi/mocbt99_BS.nc')\n",
    "    if i == 0:\n",
    "        ncid = Dataset(outfile,'w')\n",
    "    else:\n",
    "        ncid = Dataset(outfile,'a')\n",
    "\n",
    "    ncid.createDimension(totmod[i],len(mocbt99))\n",
    "    ncid.createVariable(totmod[i],'f8', (totmod[i],))\n",
    "    ncid.variables[totmod[i]][:]  = mocbt99\n",
    "    ncid.close()"
   ]
  },
  {
   "cell_type": "code",
   "execution_count": null,
   "id": "3484b5f5-805f-4afc-a8c8-3c2730432241",
   "metadata": {},
   "outputs": [],
   "source": []
  }
 ],
 "metadata": {
  "kernelspec": {
   "display_name": "jordi_2021",
   "language": "python",
   "name": "jordi_2021"
  },
  "language_info": {
   "codemirror_mode": {
    "name": "ipython",
    "version": 3
   },
   "file_extension": ".py",
   "mimetype": "text/x-python",
   "name": "python",
   "nbconvert_exporter": "python",
   "pygments_lexer": "ipython3",
   "version": "3.7.12"
  }
 },
 "nbformat": 4,
 "nbformat_minor": 5
}
