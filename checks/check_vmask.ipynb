{
 "cells": [
  {
   "cell_type": "code",
   "execution_count": null,
   "id": "1ca967bf-51ab-4c6d-91de-0e7458666591",
   "metadata": {},
   "outputs": [],
   "source": [
    "import os\n",
    "import jCMIP as jc\n",
    "Clist = jc.readList(('CMIP6listnew'))\n",
    "\n",
    "from netCDF4 import Dataset\n",
    "import numpy as np\n",
    "from scipy.integrate import quad\n",
    "import matplotlib.pyplot as plt\n",
    "import cftime\n",
    "%matplotlib inline"
   ]
  },
  {
   "cell_type": "markdown",
   "id": "68abb112-abd4-46be-9077-95bbf1bba0ab",
   "metadata": {
    "tags": []
   },
   "source": [
    "#### Check vmask and v.mask"
   ]
  },
  {
   "cell_type": "code",
   "execution_count": null,
   "id": "aad791d3-dc71-4f5a-9cb3-82cac098d570",
   "metadata": {
    "tags": []
   },
   "outputs": [],
   "source": [
    "totmod =  ['CAMS-CSM1-0','CAS-ESM2-0','CESM2-WACCM','CIESM','CMCC-CM2-SR5','CMCC-ESM2','CNRM-ESM2-1','CanESM5','EC-Earth3','FIO-ESM-2-0',\n",
    "            'HadGEM3-GC31-LL','HadGEM3-GC31-MM','IPSL-CM6A-LR','MIROC6','MPI-ESM1-2-HR','MPI-ESM1-2-LR','MRI-ESM2-0','NESM3','UKESM1-0-LL']\n",
    "ENS    =  ['r1i1p1f1','r1i1p1f1','r1i1p1f1','r1i1p1f1','r1i1p1f1','r1i1p1f1','r1i1p1f2','r2i1p1f2','r1i1p1f1','r1i1p1f1','r1i1p1f1','r1i1p1f3',\n",
    "           'r1i1p1f3','r1i1p1f1','r1i1p1f1','r1i1p1f1','r1i1p1f1','r1i1p1f1','r1i1p1f1','r1i1p1f2']\n",
    "EXP    = 'historical'\n",
    "\n",
    "#totmod =  ['CAMS-CSM1-0','CAS-ESM2-0','CESM2-WACCM','CIESM','CMCC-CM2-SR5','CMCC-ESM2','CNRM-CM6-1','CanESM5','EC-Earth3','FIO-ESM-2-0',\n",
    "#            'HadGEM3-GC31-LL','HadGEM3-GC31-MM','IPSL-CM6A-LR','MIROC6','MPI-ESM1-2-HR','MPI-ESM1-2-LR','MRI-ESM2-0','NESM3','UKESM1-0-LL']\n",
    "#ENS    =  ['r1i1p1f1','r1i1p1f1','r1i1p1f1','r1i1p1f1','r1i1p1f1','r1i1p1f1','r1i1p1f2','r1i1p1f1','r1i1p1f1','r1i1p1f1','r1i1p1f3',\n",
    "#           'r1i1p1f3','r1i1p1f1','r1i1p1f1','r1i1p1f1','r1i1p1f1','r1i1p1f1','r1i1p1f1','r1i1p1f2']\n",
    "#EXP    = 'ssp585'\n",
    "\n",
    "for i in range (len(totmod)):\n",
    "    outfile = ('/home/users/jordi/section26data/' + totmod[i] + '_' + EXP + '_' + ENS[i] + '.nc')\n",
    "    ncid    = Dataset(outfile,'r')\n",
    "\n",
    "    #Read variables\n",
    "    v    = ncid.variables['vo'][:,:,0,:]\n",
    "    lev  = ncid.variables['lev'][:]\n",
    "    lon  = ncid.variables['lon'][:,:]\n",
    "    dx   = ncid.variables['dx'][0,:]\n",
    "    dz   = ncid.variables['dz'][:,0,:]\n",
    "    vmask = ncid.variables['vmask'][:,:,:]\n",
    "    ncid.close()\n",
    "    \n",
    "    time=0\n",
    "    plt.figure(i,figsize=(10,8))\n",
    "    plt.pcolormesh(lon,lev,1-v[time,:,:].mask+2*vmask[:,0,:])\n",
    "    plt.gca().invert_yaxis()\n",
    "    plt.title(str(totmod[i]))\n",
    "    plt.colorbar()\n",
    "    plt.xlabel('Longitude',fontsize=15)\n",
    "    plt.ylabel('Depth (m)',fontsize=15)\n",
    "    plt.xticks(fontsize=14)\n",
    "    plt.yticks(fontsize=14)\n",
    "\n",
    "#Grid cells with value 3 are not masked by both masks, with value 2 are only masked by v.mask and with value 1 are only masked by vmask.\n",
    "#Values of 0 are masked by both masks."
   ]
  },
  {
   "cell_type": "markdown",
   "id": "1db5dd23-239b-4a5f-87c6-c32acb43df93",
   "metadata": {
    "tags": []
   },
   "source": [
    "#### Check vmask and dz"
   ]
  },
  {
   "cell_type": "code",
   "execution_count": null,
   "id": "80102e3a-ff32-4f21-955c-1321d7150da2",
   "metadata": {},
   "outputs": [],
   "source": [
    "#totmod =  ['CAMS-CSM1-0','CAS-ESM2-0','CESM2-WACCM','CIESM','CMCC-CM2-SR5','CMCC-ESM2','CNRM-CM6-1','CNRM-ESM2-1','CanESM5','EC-Earth3','FIO-ESM-2-0',\n",
    "#            'HadGEM3-GC31-LL','HadGEM3-GC31-MM','IPSL-CM6A-LR','MIROC6','MPI-ESM1-2-HR','MPI-ESM1-2-LR','MRI-ESM2-0','NESM3','UKESM1-0-LL']\n",
    "#ENS    =  ['r1i1p1f1','r1i1p1f1','r1i1p1f1','r1i1p1f1','r1i1p1f1','r1i1p1f1','r1i1p1f2','r2i1p1f2','r1i1p1f1','r1i1p1f1','r1i1p1f1','r1i1p1f3',\n",
    "#           'r1i1p1f3','r1i1p1f1','r1i1p1f1','r1i1p1f1','r1i1p1f1','r1i1p1f1','r1i1p1f1','r1i1p1f2']\n",
    "#EXP    = 'historical'\n",
    "\n",
    "totmod =  ['CAMS-CSM1-0','CAS-ESM2-0','CESM2-WACCM','CIESM','CMCC-CM2-SR5','CMCC-ESM2','CNRM-CM6-1','CanESM5','EC-Earth3','FIO-ESM-2-0',\n",
    "            'HadGEM3-GC31-LL','HadGEM3-GC31-MM','IPSL-CM6A-LR','MIROC6','MPI-ESM1-2-HR','MPI-ESM1-2-LR','MRI-ESM2-0','NESM3','UKESM1-0-LL']\n",
    "ENS    =  ['r1i1p1f1','r1i1p1f1','r1i1p1f1','r1i1p1f1','r1i1p1f1','r1i1p1f1','r1i1p1f2','r1i1p1f1','r1i1p1f1','r1i1p1f1','r1i1p1f3',\n",
    "           'r1i1p1f3','r1i1p1f1','r1i1p1f1','r1i1p1f1','r1i1p1f1','r1i1p1f1','r1i1p1f1','r1i1p1f2']\n",
    "EXP    = 'ssp585'\n",
    "\n",
    "for i in range (len(totmod)):\n",
    "    outfile = ('/home/users/jordi/section26data/' + totmod[i] + '_' + EXP + '_' + ENS[i] + '.nc')\n",
    "    ncid    = Dataset(outfile,'r')\n",
    "\n",
    "    #Read variables\n",
    "    v    = ncid.variables['vo'][:,:,0,:]\n",
    "    lev  = ncid.variables['lev'][:]\n",
    "    lon  = ncid.variables['lon'][:,:]\n",
    "    dx   = ncid.variables['dx'][0,:]\n",
    "    dz   = ncid.variables['dz'][:,0,:]\n",
    "    vmask = ncid.variables['vmask'][:,:,:]\n",
    "    ncid.close()\n",
    "    \n",
    "    time=0\n",
    "    dz1 = np.where(dz>0,1,0)\n",
    "    v1  = np.where(v[time,:,:]>0,1,0)\n",
    "    plt.figure(2*i-1,figsize=(10,7))\n",
    "    plt.pcolormesh(lon,lev,vmask[:,0,:]+2*dz1[:,:])\n",
    "    plt.gca().invert_yaxis()\n",
    "    plt.title(str(totmod[i]))\n",
    "    plt.colorbar()\n",
    "    \n",
    "    if totmod[i] == 'MRI-ESM2-0':\n",
    "        print((vmask[:,0,:]+2*dz1[:,:])[-3,14])\n",
    "        print((vmask[:,0,:]+2*dz1[:,:])[-4,31])\n",
    "        print((vmask[:,0,:]+2*dz1[:,:])[-5,40])\n",
    "    \n",
    "#Grid cells with value 3 are not masked by both masks, with value 2 are only masked by v.mask and with value 1 are only masked by vmask.\n",
    "#Values of 0 are masked by both masks."
   ]
  },
  {
   "cell_type": "markdown",
   "id": "7e319e2d-e9b7-4b9a-9a01-9e4feac9a61c",
   "metadata": {
    "jp-MarkdownHeadingCollapsed": true,
    "tags": []
   },
   "source": [
    "#### Check MPI-LR halo points not removed"
   ]
  },
  {
   "cell_type": "code",
   "execution_count": null,
   "id": "8453af93-8883-477c-aea9-be3948a16bbb",
   "metadata": {},
   "outputs": [],
   "source": [
    "model  = 'MPI-ESM1-2-LR'\n",
    "ENS    = 'r1i1p1f1'\n",
    "EXP    = 'historical'\n",
    "\n",
    "outfile = ('/home/users/jordi/section26data/' + model + '_inclhalo' + EXP + '_' + ENS + '.nc')\n",
    "ncid    = Dataset(outfile,'r')\n",
    "\n",
    "#Read variables\n",
    "v    = ncid.variables['vo'][:,:,0,:]\n",
    "lev  = ncid.variables['lev'][:]\n",
    "lon  = ncid.variables['lon'][:,:]\n",
    "dx   = ncid.variables['dx'][0,:]\n",
    "dz   = ncid.variables['dz'][:,0,:]\n",
    "vmask = ncid.variables['vmask'][:,:,:]\n",
    "ncid.close()\n",
    "    \n",
    "time=0\n",
    "plt.figure(1,figsize=(10,7))\n",
    "plt.pcolormesh(lon,lev,1-v[time,:,:].mask+2*vmask[:,0,:])\n",
    "plt.gca().invert_yaxis()\n",
    "#plt.title(str(totmod[i]))\n",
    "plt.colorbar()\n",
    "\n",
    "plt.plot(np.nansum(np.nansum(v)))"
   ]
  },
  {
   "cell_type": "markdown",
   "id": "2af9fec9-d984-4000-a0dc-b720c64f35fe",
   "metadata": {
    "jp-MarkdownHeadingCollapsed": true,
    "tags": []
   },
   "source": [
    "#### Check MPI-HR test2 (vmask[ilat] instead of vmask[ilat:ilat+1])"
   ]
  },
  {
   "cell_type": "code",
   "execution_count": null,
   "id": "805e3b0c-cea2-49c5-b2d0-226dfd82ec2e",
   "metadata": {},
   "outputs": [],
   "source": [
    "model  = 'MPI-ESM1-2-HR'\n",
    "ENS    = 'r1i1p1f1'\n",
    "EXP    = 'historical'\n",
    "\n",
    "outfile = ('/home/users/jordi/section26data/' + model + '_' + EXP + '_' + ENS + 'test2.nc')\n",
    "ncid    = Dataset(outfile,'r')\n",
    "\n",
    "#Read variables\n",
    "v    = ncid.variables['vo'][:,:,0,:]\n",
    "lev  = ncid.variables['lev'][:]\n",
    "lon  = ncid.variables['lon'][:,:]\n",
    "dx   = ncid.variables['dx'][0,:]\n",
    "dz   = ncid.variables['dz'][:,0,:]\n",
    "vmask = ncid.variables['vmask'][:,:,:]\n",
    "ncid.close()\n",
    "    \n",
    "time=0\n",
    "plt.figure(1,figsize=(10,7))\n",
    "plt.pcolormesh(lon,lev,1-v[time,:,:].mask+2*vmask[:,0,:])\n",
    "plt.gca().invert_yaxis()\n",
    "#plt.title(str(totmod[i]))\n",
    "plt.colorbar()"
   ]
  },
  {
   "cell_type": "markdown",
   "id": "ed295fe4-11e1-46dd-a4f3-11fe1a1da86e",
   "metadata": {
    "jp-MarkdownHeadingCollapsed": true,
    "tags": []
   },
   "source": [
    "#### CMCC-CM2 test (vmask[ilonmin-1:ilonmax-1], since halo points are already removed from mask files)"
   ]
  },
  {
   "cell_type": "code",
   "execution_count": null,
   "id": "90aba08a-14f5-4924-b8da-a95b76a2aedf",
   "metadata": {},
   "outputs": [],
   "source": [
    "model  = 'CMCC-CM2-SR5'\n",
    "ENS    = 'r1i1p1f1'\n",
    "EXP    = 'historical'\n",
    "\n",
    "outfile = ('/home/users/jordi/section26data/' + model + '_' + EXP + '_' + ENS + 'test.nc')\n",
    "ncid    = Dataset(outfile,'r')\n",
    "\n",
    "#Read variables\n",
    "v    = ncid.variables['vo'][:,:,0,:]\n",
    "lev  = ncid.variables['lev'][:]\n",
    "lon  = ncid.variables['lon'][:,:]\n",
    "dx   = ncid.variables['dx'][0,:]\n",
    "dz   = ncid.variables['dz'][:,0,:]\n",
    "vmask = ncid.variables['vmask'][:,:,:]\n",
    "ncid.close()\n",
    "    \n",
    "time=0\n",
    "plt.figure(1,figsize=(10,7))\n",
    "plt.pcolormesh(lon,lev,1-v[time,:,:].mask+2*vmask[:,0,:])\n",
    "plt.gca().invert_yaxis()\n",
    "#plt.title(str(totmod[i]))\n",
    "plt.colorbar()"
   ]
  },
  {
   "cell_type": "code",
   "execution_count": null,
   "id": "14180e3c-024a-43af-93f3-c7e7b4e60e5b",
   "metadata": {},
   "outputs": [],
   "source": []
  }
 ],
 "metadata": {
  "kernelspec": {
   "display_name": "jordi_2021",
   "language": "python",
   "name": "jordi_2021"
  },
  "language_info": {
   "codemirror_mode": {
    "name": "ipython",
    "version": 3
   },
   "file_extension": ".py",
   "mimetype": "text/x-python",
   "name": "python",
   "nbconvert_exporter": "python",
   "pygments_lexer": "ipython3",
   "version": "3.7.12"
  }
 },
 "nbformat": 4,
 "nbformat_minor": 5
}
