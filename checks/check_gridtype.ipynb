{
 "cells": [
  {
   "cell_type": "code",
   "execution_count": 1,
   "id": "dfba99fa-8b40-4ac7-8e24-88c0d33c8d18",
   "metadata": {},
   "outputs": [],
   "source": [
    "import os\n",
    "import jCMIP as jc\n",
    "Clist = jc.readList(('CMIP6listnew'))\n",
    "from netCDF4 import Dataset\n",
    "import numpy as np\n",
    "from scipy.integrate import quad\n",
    "import matplotlib.pyplot as plt\n",
    "from scipy import stats as st\n",
    "import cftime\n",
    "import pandas as pd\n",
    "%matplotlib inline"
   ]
  },
  {
   "cell_type": "markdown",
   "id": "b2432374-03a5-48aa-b116-9fb843c76f90",
   "metadata": {
    "tags": []
   },
   "source": [
    "#### Check grid type - single model"
   ]
  },
  {
   "cell_type": "code",
   "execution_count": 6,
   "id": "6cd4ba4b-432f-4872-ab96-21725a982a2b",
   "metadata": {},
   "outputs": [],
   "source": [
    "model = Clist['CanESM5']\n",
    "EXP   = 'historical'\n",
    "ENS   = 'r1i1p1f1'\n",
    "\n",
    "VFiles = model.getFiles('vo',    EXP=EXP,ENS=ENS,vtype='Omon',gtype='gn')\n",
    "TFiles = model.getFiles('thetao',EXP=EXP,ENS=ENS,vtype='Omon',gtype='gn')\n",
    "WFiles = model.getFiles('tauuo',EXP=EXP,ENS=ENS,vtype='Omon',gtype='gn')\n",
    "\n",
    "ncid = Dataset(VFiles[0],'r')\n",
    "if model.Oreg:\n",
    "    vlon  = ncid.variables[model.Olon][:]\n",
    "    vlat  = ncid.variables[model.Olat][:]\n",
    "    vlon,vlat = np.meshgrid(vlon,vlat)\n",
    "else:\n",
    "    vlon  = ncid.variables[model.Olon][:,:]\n",
    "    vlat  = ncid.variables[model.Olat][:,:]\n",
    "ncid.close()\n",
    "\n",
    "ncid = Dataset(TFiles[0],'r')\n",
    "if model.Oreg:\n",
    "    tlon  = ncid.variables[model.Olon][:]\n",
    "    tlat  = ncid.variables[model.Olat][:]\n",
    "    tlon,tlat = np.meshgrid(tlon,tlat)\n",
    "else:\n",
    "    tlon  = ncid.variables[model.Olon][:,:]\n",
    "    tlat  = ncid.variables[model.Olat][:,:]\n",
    "ncid.close()\n",
    "\n",
    "ncid = Dataset(WFiles[0],'r')\n",
    "if model.Oreg:\n",
    "    wlon  = ncid.variables[model.Olon][:]\n",
    "    wlat  = ncid.variables[model.Olat][:]\n",
    "    wlon,wlat = np.meshgrid(tlon,tlat)\n",
    "else:\n",
    "    wlon  = ncid.variables[model.Olon][:,:]\n",
    "    wlat  = ncid.variables[model.Olat][:,:]\n",
    "ncid.close()"
   ]
  },
  {
   "cell_type": "code",
   "execution_count": 7,
   "id": "80ae7cac-782a-45c2-8bad-f600a52c58f9",
   "metadata": {},
   "outputs": [
    {
     "name": "stdout",
     "output_type": "stream",
     "text": [
      "273.446044921875\n",
      "36.22610092163086\n"
     ]
    }
   ],
   "source": [
    "print(vlon[200,200])\n",
    "print(vlat[200,200])"
   ]
  },
  {
   "cell_type": "code",
   "execution_count": 8,
   "id": "1970e104-bcb0-448e-b711-0ad7802f7003",
   "metadata": {},
   "outputs": [
    {
     "name": "stdout",
     "output_type": "stream",
     "text": [
      "273.45111083984375\n",
      "35.85499954223633\n"
     ]
    }
   ],
   "source": [
    "print(tlon[200,200])\n",
    "print(tlat[200,200])"
   ]
  },
  {
   "cell_type": "code",
   "execution_count": 9,
   "id": "87e474fb-3565-46fe-97cf-1a9c86552901",
   "metadata": {},
   "outputs": [
    {
     "name": "stdout",
     "output_type": "stream",
     "text": [
      "273.9501647949219\n",
      "35.859352111816406\n"
     ]
    }
   ],
   "source": [
    "print(wlon[200,200])\n",
    "print(wlat[200,200])"
   ]
  },
  {
   "cell_type": "code",
   "execution_count": null,
   "id": "8b7c6583-657d-4ec9-a241-617949a8f0d8",
   "metadata": {},
   "outputs": [],
   "source": []
  }
 ],
 "metadata": {
  "kernelspec": {
   "display_name": "jordi_2021",
   "language": "python",
   "name": "jordi_2021"
  },
  "language_info": {
   "codemirror_mode": {
    "name": "ipython",
    "version": 3
   },
   "file_extension": ".py",
   "mimetype": "text/x-python",
   "name": "python",
   "nbconvert_exporter": "python",
   "pygments_lexer": "ipython3",
   "version": "3.7.12"
  }
 },
 "nbformat": 4,
 "nbformat_minor": 5
}
