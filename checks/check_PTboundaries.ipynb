{
 "cells": [
  {
   "cell_type": "code",
   "execution_count": null,
   "id": "1ad428ca-3321-4819-a4c0-2ce052aca867",
   "metadata": {},
   "outputs": [],
   "source": [
    "import jCMIP as jc\n",
    "Clist = jc.readList(('CMIP6listnew'))\n",
    "\n",
    "from netCDF4 import Dataset\n",
    "from netCDF4 import num2date\n",
    "import numpy as np\n",
    "from scipy.integrate import quad\n",
    "import matplotlib.pyplot as plt\n",
    "import cftime\n",
    "import gsw\n",
    "from datetime import date, timedelta\n",
    "import pandas as pd\n",
    "from scipy.interpolate import interp1d"
   ]
  },
  {
   "cell_type": "markdown",
   "id": "1e8b5711-4f21-451d-81da-1bdfe7d5b73b",
   "metadata": {
    "jp-MarkdownHeadingCollapsed": true,
    "tags": []
   },
   "source": [
    "#### Check tr and iw boundary (PT = 8)"
   ]
  },
  {
   "cell_type": "code",
   "execution_count": null,
   "id": "af3a060b-57ff-4efe-baa1-06b025e24ea5",
   "metadata": {},
   "outputs": [],
   "source": [
    "totmod =  ['CAMS-CSM1-0','CAS-ESM2-0','CESM2-WACCM','CIESM','CMCC-CM2-SR5','CMCC-ESM2','CNRM-CM6-1','CNRM-ESM2-1','CanESM5','EC-Earth3','FIO-ESM-2-0',\n",
    "            'HadGEM3-GC31-LL','HadGEM3-GC31-MM','IPSL-CM6A-LR','MIROC6','MPI-ESM1-2-HR','MPI-ESM1-2-LR','MRI-ESM2-0','NESM3','UKESM1-0-LL']\n",
    "ENS    =  ['r1i1p1f1','r1i1p1f1','r1i1p1f1','r1i1p1f1','r1i1p1f1','r1i1p1f1','r1i1p1f2','r2i1p1f2','r1i1p1f1','r1i1p1f1','r1i1p1f1','r1i1p1f3',\n",
    "           'r1i1p1f3','r1i1p1f1','r1i1p1f1','r1i1p1f1','r1i1p1f1','r1i1p1f1','r1i1p1f1','r1i1p1f2']\n",
    "\n",
    "for i in range (len(totmod)):\n",
    "    outfile = ('/home/users/jordi/section26data/' + totmod[i] + '_historical_' + ENS[i] + '.nc')\n",
    "    ncid    = Dataset(outfile,'r')\n",
    "    tp      = ncid.variables['tp'][:,:]\n",
    "    lev     = ncid.variables['lev'][:]\n",
    "    T       = ncid.variables['thetao'][:,:,0,:]\n",
    "    ncid.close()\n",
    "\n",
    "    #Find boundary tr and iw using PT = 8\n",
    "    tmean = np.nanmean(T,axis=0)\n",
    "    PTrow     = np.nanmean(tmean,axis=1)\n",
    "    PT8idx    = np.nanargmin(np.abs(PTrow-8))\n",
    "    \n",
    "    tprow = np.nansum(tp,axis=1)\n",
    "    mocbt = -1*np.cumsum(tprow[::-1])[::-1]\n",
    "    \n",
    "    imax2 = np.where(mocbt == max(mocbt))\n",
    "    imax1 = imax2[0]\n",
    "    imax = imax1[0]\n",
    "    \n",
    "    if PT8idx > imax:\n",
    "        print(str(totmod[i]) + ' - True - ' + str(lev[PT8idx]))\n",
    "    else:\n",
    "        print(str(totmod[i]) + ' - False - ' + str(lev[PT8idx]))"
   ]
  },
  {
   "cell_type": "markdown",
   "id": "7fef8a99-beaa-4719-874e-6cdcfa7c0f97",
   "metadata": {
    "jp-MarkdownHeadingCollapsed": true,
    "tags": []
   },
   "source": [
    "#### Check tr and iw boundary (SP = 35psu)"
   ]
  },
  {
   "cell_type": "code",
   "execution_count": null,
   "id": "5edaf291-7f6e-4e37-a842-becc30d9a2be",
   "metadata": {},
   "outputs": [],
   "source": [
    "totmod =  ['CAMS-CSM1-0','CAS-ESM2-0','CESM2-WACCM','CIESM','CMCC-CM2-SR5','CMCC-ESM2','CNRM-CM6-1','CNRM-ESM2-1','CanESM5','EC-Earth3','FIO-ESM-2-0',\n",
    "            'HadGEM3-GC31-LL','HadGEM3-GC31-MM','IPSL-CM6A-LR','MIROC6','MPI-ESM1-2-HR','MPI-ESM1-2-LR','MRI-ESM2-0','NESM3','UKESM1-0-LL']\n",
    "ENS    =  ['r1i1p1f1','r1i1p1f1','r1i1p1f1','r1i1p1f1','r1i1p1f1','r1i1p1f1','r1i1p1f2','r2i1p1f2','r1i1p1f1','r1i1p1f1','r1i1p1f1','r1i1p1f3',\n",
    "           'r1i1p1f3','r1i1p1f1','r1i1p1f1','r1i1p1f1','r1i1p1f1','r1i1p1f1','r1i1p1f1','r1i1p1f2']\n",
    "\n",
    "for i in range (len(totmod)):\n",
    "    outfile = ('/home/users/jordi/section26data/' + totmod[i] + '_historical_' + ENS[i] + '.nc')\n",
    "    ncid    = Dataset(outfile,'r')\n",
    "    tp      = ncid.variables['tp'][:,:]\n",
    "    lev     = ncid.variables['lev'][:]\n",
    "    SP      = ncid.variables['so'][:,:,0,:]\n",
    "    ncid.close()\n",
    "\n",
    "    #Find boundary tr and iw using SP = 35psu\n",
    "    spmean   = np.nanmean(SP,axis=0)\n",
    "    SProw    = np.nanmean(spmean,axis=1)\n",
    "    SPidx    = np.nanargmin(np.abs(SProw-35))\n",
    "    \n",
    "    tprow = np.nansum(tp,axis=1)\n",
    "    mocbt = -1*np.cumsum(tprow[::-1])[::-1]\n",
    "    \n",
    "    imax2 = np.where(mocbt == max(mocbt))\n",
    "    imax1 = imax2[0]\n",
    "    imax = imax1[0]\n",
    "    \n",
    "    if SPidx > imax:\n",
    "        print(str(totmod[i]) + ' - True - ' + str(lev[SPidx]))\n",
    "    else:\n",
    "        print(str(totmod[i]) + ' - False - ' + str(lev[SPidx]))"
   ]
  },
  {
   "cell_type": "markdown",
   "id": "81659271-b0df-4b67-89cb-afcbb9105363",
   "metadata": {
    "jp-MarkdownHeadingCollapsed": true,
    "tags": []
   },
   "source": [
    "#### Check upper and lower NADW boundary (PT = 3)"
   ]
  },
  {
   "cell_type": "code",
   "execution_count": null,
   "id": "71c9b6cb-648c-48ec-899e-5dcd2918d13e",
   "metadata": {},
   "outputs": [],
   "source": [
    "totmod =  ['CAMS-CSM1-0','CAS-ESM2-0','CESM2-WACCM','CIESM','CMCC-CM2-SR5','CMCC-ESM2','CNRM-CM6-1','CNRM-ESM2-1','CanESM5','EC-Earth3','FIO-ESM-2-0',\n",
    "            'HadGEM3-GC31-LL','HadGEM3-GC31-MM','IPSL-CM6A-LR','MIROC6','MPI-ESM1-2-HR','MPI-ESM1-2-LR','MRI-ESM2-0','NESM3','UKESM1-0-LL']\n",
    "ENS    =  ['r1i1p1f1','r1i1p1f1','r1i1p1f1','r1i1p1f1','r1i1p1f1','r1i1p1f1','r1i1p1f2','r2i1p1f2','r1i1p1f1','r1i1p1f1','r1i1p1f1','r1i1p1f3',\n",
    "           'r1i1p1f3','r1i1p1f1','r1i1p1f1','r1i1p1f1','r1i1p1f1','r1i1p1f1','r1i1p1f1','r1i1p1f2']\n",
    "\n",
    "for i in range (len(totmod)):\n",
    "    outfile = ('/home/users/jordi/section26data/' + totmod[i] + '_historical_' + ENS[i] + '.nc')\n",
    "    ncid    = Dataset(outfile,'r')\n",
    "    tp      = ncid.variables['tp'][:,:]\n",
    "    lev     = ncid.variables['lev'][:]\n",
    "    lat     = np.squeeze(ncid.variables['lat'][:,:])\n",
    "    lon     = np.squeeze(ncid.variables['lon'][:,:])\n",
    "    T       = ncid.variables['thetao'][:,:,0,:]\n",
    "    SP      = ncid.variables['so'][:,:,0,:]\n",
    "    ncid.close()\n",
    "\n",
    "    #Find boundary lNADW and uNADW using PT = 3\n",
    "    tmean = np.nanmean(T,axis=0)\n",
    "    PTrow = np.nanmean(tmean,axis=1)\n",
    "    PTidx = np.nanargmin(np.abs(PTrow-3))\n",
    "    \n",
    "    #Find boundary AABW and lNADW using shift from - to + tp\n",
    "    tpcol = np.nansum(tp,axis=0)\n",
    "    \n",
    "    idx2 = np.where(tpcol<0)\n",
    "    idx1 = idx2[0]\n",
    "    idx = idx1[0]\n",
    "    tprow_mo = np.nansum(tp[:,idx::],axis=1)\n",
    "\n",
    "    for l in range (len(tprow_mo)):\n",
    "        if tprow_mo[l]>0 and tprow_mo[l-1]<0:\n",
    "            Aidx3 = tprow_mo[l]\n",
    "        \n",
    "    Aidx2 = np.where(tprow_mo == Aidx3)\n",
    "    Aidx1 = Aidx2[0]\n",
    "    Aidx = Aidx1[0]\n",
    "    \n",
    "    if PTidx > Aidx:\n",
    "        print(str(totmod[i]) + ' - True')\n",
    "    else:\n",
    "        print(str(totmod[i]) + ' - ' + str(lev[PTidx]))"
   ]
  },
  {
   "cell_type": "markdown",
   "id": "bacaac77-fd8e-43c2-b00a-6cf6f6b43cfe",
   "metadata": {
    "jp-MarkdownHeadingCollapsed": true,
    "tags": []
   },
   "source": [
    "#### Density calculations and plots"
   ]
  },
  {
   "cell_type": "code",
   "execution_count": null,
   "id": "e5994a53-6aab-4ef1-bd32-853468efb4a0",
   "metadata": {},
   "outputs": [],
   "source": [
    "#Compute in-situ and potential density anomaly for depth boundaries\n",
    "totmod =  ['CAMS-CSM1-0','CAS-ESM2-0','CESM2-WACCM','CIESM','CMCC-CM2-SR5','CMCC-ESM2','CNRM-CM6-1','CNRM-ESM2-1','CanESM5','EC-Earth3','FIO-ESM-2-0',\n",
    "            'HadGEM3-GC31-LL','HadGEM3-GC31-MM','IPSL-CM6A-LR','MIROC6','MPI-ESM1-2-HR','MPI-ESM1-2-LR','MRI-ESM2-0','NESM3','UKESM1-0-LL']\n",
    "ENS    =  ['r1i1p1f1','r1i1p1f1','r1i1p1f1','r1i1p1f1','r1i1p1f1','r1i1p1f1','r1i1p1f2','r2i1p1f2','r1i1p1f1','r1i1p1f1','r1i1p1f1','r1i1p1f3',\n",
    "           'r1i1p1f3','r1i1p1f1','r1i1p1f1','r1i1p1f1','r1i1p1f1','r1i1p1f1','r1i1p1f1','r1i1p1f2']\n",
    "\n",
    "outfile = ('/home/users/jordi/section26data/' + totmod[0] + '_historical_' + ENS[0] + '.nc')\n",
    "ncid = Dataset(outfile,'r')\n",
    "lev = ncid.variables['lev'][:]\n",
    "lat = np.squeeze(ncid.variables['lat'][:,:])\n",
    "lon = np.squeeze(ncid.variables['lon'][:,:])\n",
    "SP = ncid.variables['so'][:,:,:,:]\n",
    "T = ncid.variables['thetao'][:,:,:,:]\n",
    "ncid.close()\n",
    "\n",
    "spmean = np.squeeze(np.nanmean(SP,axis=0))\n",
    "tmean = np.squeeze(np.nanmean(T,axis=0))\n",
    "z   = [-50,-800,-1100,-3000,-5000]\n",
    "p   = np.zeros(len(z))\n",
    "SA  = np.zeros((len(z),len(lon)))\n",
    "CT  = np.zeros((len(z),len(lon)))\n",
    "rho = np.zeros((len(z),len(lon)))\n",
    "rhopt = np.zeros((len(z),len(lon)))\n",
    "\n",
    "#Calculate in-situ density at boundaries (SP = practical salinity, SA = absolute salinity, CT = conservative T, PT = potential T, p = sea pressure)\n",
    "for i in range (len(z)):\n",
    "    p[i]   = gsw.p_from_z(z[i], lat[0])\n",
    "    for j in range (len(lon)):\n",
    "        SA[i,j]  = gsw.SA_from_SP(spmean[int(iz[i]),j],p[i],lon[j],lat[0])\n",
    "        PT[i,j]  = gsw.pt0_from_t(SA[i,j],tmean[i,j],p[i])\n",
    "        CT[i,j]  = gsw.CT_from_t(SA[i,j],tmean[int(iz[i]),j],p[i])\n",
    "        rho[i,j] = gsw.density.rho(SA[i,j],CT[i,j],p[i])\n",
    "        rhopt[i,j] = gsw.density.sigma0(SA[i,j],CT[i,j])\n",
    "        \n",
    "        \n",
    "    plt.figure(1)    \n",
    "    plt.plot(rho[i,:],label=z[i])\n",
    "    plt.gca().invert_yaxis()\n",
    "    plt.ylabel('In-situ density (kg/m^3)')\n",
    "    plt.legend()\n",
    "    plt.figure(2)    \n",
    "    plt.plot(rhopt[i,:],label=z[i])\n",
    "    plt.gca().invert_yaxis()\n",
    "    plt.ylabel('Potential density anomaly sigma0 (kg/m^3)')\n",
    "    plt.legend()\n",
    "    \n",
    "rhomean = np.nanmean(rho,axis=1)\n",
    "rhoptmean = np.nanmean(rhopt,axis=1)\n",
    "print(rhomean)\n",
    "print(rhoptmean)"
   ]
  },
  {
   "cell_type": "code",
   "execution_count": null,
   "id": "efada43d-50e4-45a1-8de1-30e50d04ab19",
   "metadata": {},
   "outputs": [],
   "source": [
    "#Compute in-situ density and potential density anomaly for cross section\n",
    "p   = np.zeros(len(lev))\n",
    "SA  = np.zeros((len(lev),len(lon)))\n",
    "CT  = np.zeros((len(lev),len(lon)))\n",
    "rho = np.zeros((len(lev),len(lon)))\n",
    "rhopt = np.zeros((len(lev),len(lon)))\n",
    "\n",
    "#Calculate in-situ density at boundaries (SP = practical salinity, SA = absolute salinity, CT = conservative temperature, p = sea pressure)\n",
    "for i in range (len(lev)):\n",
    "    p[i] = gsw.p_from_z(-1*lev[i], lat[0])\n",
    "    for j in range (len(lon)):\n",
    "        SA[i,j]  = gsw.SA_from_SP(spmean[i,j],p[i],lon[j],lat[0])\n",
    "        CT[i,j]  = gsw.CT_from_t(SA[i,j],tmean[i,j],p[i])\n",
    "        rho[i,j] = gsw.density.rho(SA[i,j],CT[i,j],p[i])\n",
    "        rhopt[i,j] = gsw.density.sigma0(SA[i,j],CT[i,j])\n",
    "        \n",
    "plt.figure(1) \n",
    "plt.title('In-situ density (kg/m^3)')\n",
    "plt.pcolormesh(lon,lev,rho)\n",
    "plt.gca().invert_yaxis()\n",
    "plt.colorbar()\n",
    "plt.figure(2)   \n",
    "plt.title('Potential density anomaly sigma0 (kg/m^3)')\n",
    "plt.pcolormesh(lon,lev,rhopt)\n",
    "plt.gca().invert_yaxis()\n",
    "plt.colorbar()"
   ]
  },
  {
   "cell_type": "code",
   "execution_count": null,
   "id": "e8f479bb-57f5-4a13-9689-e9e08b32dc57",
   "metadata": {},
   "outputs": [],
   "source": []
  }
 ],
 "metadata": {
  "kernelspec": {
   "display_name": "jordi_2021",
   "language": "python",
   "name": "jordi_2021"
  },
  "language_info": {
   "codemirror_mode": {
    "name": "ipython",
    "version": 3
   },
   "file_extension": ".py",
   "mimetype": "text/x-python",
   "name": "python",
   "nbconvert_exporter": "python",
   "pygments_lexer": "ipython3",
   "version": "3.7.12"
  }
 },
 "nbformat": 4,
 "nbformat_minor": 5
}
