{
 "cells": [
  {
   "cell_type": "code",
   "execution_count": null,
   "id": "4102beb1-fc3a-44df-8c0b-bd371814e2a5",
   "metadata": {},
   "outputs": [],
   "source": [
    "import jCMIP as jc\n",
    "Clist = jc.readList(('CMIP6listnew'))\n",
    "\n",
    "from netCDF4 import Dataset\n",
    "from netCDF4 import num2date\n",
    "import numpy as np\n",
    "from scipy.integrate import quad\n",
    "import matplotlib.pyplot as plt\n",
    "import cftime\n",
    "import gsw\n",
    "from datetime import date, timedelta\n",
    "import pandas as pd\n",
    "from scipy.interpolate import interp1d"
   ]
  },
  {
   "cell_type": "markdown",
   "id": "33373551-b507-4891-9d34-b3e6031efa38",
   "metadata": {
    "tags": []
   },
   "source": [
    "#### Transport plot (dx,dz) and FS boundary"
   ]
  },
  {
   "cell_type": "code",
   "execution_count": null,
   "id": "5299808b-7ece-4099-aa61-3e2ef4592365",
   "metadata": {},
   "outputs": [],
   "source": [
    "totmod =  ['CAMS-CSM1-0','CAS-ESM2-0','CESM2-WACCM','CIESM','CMCC-CM2-SR5','CMCC-ESM2','CNRM-CM6-1','CNRM-ESM2-1','CanESM5','EC-Earth3','FIO-ESM-2-0',\n",
    "            'HadGEM3-GC31-LL','HadGEM3-GC31-MM','IPSL-CM6A-LR','MIROC6','MPI-ESM1-2-HR','MPI-ESM1-2-LR','MRI-ESM2-0','NESM3','UKESM1-0-LL']\n",
    "ENS    =  ['r1i1p1f1','r1i1p1f1','r1i1p1f1','r1i1p1f1','r1i1p1f1','r1i1p1f1','r1i1p1f2','r2i1p1f2','r1i1p1f1','r1i1p1f1','r1i1p1f1','r1i1p1f3',\n",
    "           'r1i1p1f3','r1i1p1f1','r1i1p1f1','r1i1p1f1','r1i1p1f1','r1i1p1f1','r1i1p1f1','r1i1p1f2']\n",
    "EXP   = 'historical'\n",
    "\n",
    "for mod in range (len(totmod)):\n",
    "    outfile = ('/home/users/jordi/section26data/' + totmod[mod] + '_' + EXP + '_' + ENS[mod] + '.nc')\n",
    "    ncid    = Dataset(outfile,'r')\n",
    "    lev     = ncid.variables['lev'][:]\n",
    "    lon     = np.squeeze(ncid.variables['lon'][:,:])\n",
    "    tp15    = ncid.variables['tp15'][:,:,:]\n",
    "    ncid.close()\n",
    "    \n",
    "    #Find FS boundary\n",
    "    tp15mean = np.nanmean(tp15,axis=0)\n",
    "    tprow15 = np.nansum(tp15mean,axis=1)\n",
    "    mocbtv  = -1*np.cumsum(tprow15[::-1])[::-1]\n",
    "    imax2   = np.where(mocbtv == max(mocbtv))\n",
    "    imax1   = imax2[0]\n",
    "    imax    = imax1[0]\n",
    "    \n",
    "    tpcol15 = np.nansum(tp15mean[0:imax,:],axis=0)\n",
    "    mx     = np.nanargmin(np.abs(tpcol15 - max(tpcol15)))\n",
    "    idx2   = np.where(tpcol15[mx::]<0)\n",
    "    idx1   = idx2[0]\n",
    "    idx = idx1[0] + mx\n",
    "    \n",
    "    #if totmod[mod] == 'MPI-ESM1-2-HR':\n",
    "    #    tpcol15 = np.nansum(tp15mean[0:imax,:],axis=0)\n",
    "    #    idx2   = np.where(tpcol15[8::]<0)\n",
    "    #    idx1   = idx2[0]\n",
    "    #    idx = idx1[0] + 8\n",
    "    #    print(idx)\n",
    "    \n",
    "    plt.figure(mod)\n",
    "    plt.pcolormesh(lon,lev,tp15mean)\n",
    "    plt.axvline(x=lon[idx],color='C3')\n",
    "    plt.axhline(y=lev[imax],color='C3')\n",
    "    plt.gca().invert_yaxis()\n",
    "    plt.title(totmod[mod])\n",
    "    plt.colorbar()"
   ]
  },
  {
   "cell_type": "markdown",
   "id": "e760e416-2cb1-459f-816e-8a4a63cdf02c",
   "metadata": {
    "jp-MarkdownHeadingCollapsed": true,
    "tags": []
   },
   "source": [
    "#### Check MPI-ESM1-2-HR"
   ]
  },
  {
   "cell_type": "code",
   "execution_count": null,
   "id": "81e1117c-7acb-4229-9e8a-260be7dac52c",
   "metadata": {},
   "outputs": [],
   "source": [
    "totmod =  'MPI-ESM1-2-HR'\n",
    "ENS    =  'r1i1p1f1'\n",
    "EXP    = 'historical'\n",
    "\n",
    "outfile = ('/home/users/jordi/section26data/' + totmod + '_' + EXP + '_' + ENS + '.nc')\n",
    "ncid    = Dataset(outfile,'r')\n",
    "lev     = ncid.variables['lev'][:]\n",
    "lon     = np.squeeze(ncid.variables['lon'][:,:])\n",
    "tp15    = ncid.variables['tp15'][:,:,:]\n",
    "ncid.close()\n",
    "    \n",
    "#Find FS boundary\n",
    "tp15mean = np.nanmean(tp15,axis=0)\n",
    "tpcol15  = np.nansum(tp15mean,axis=0)\n",
    "print(tpcol15)"
   ]
  },
  {
   "cell_type": "code",
   "execution_count": null,
   "id": "6339c71e-d180-4e36-9018-555e3082c3b2",
   "metadata": {},
   "outputs": [],
   "source": []
  }
 ],
 "metadata": {
  "kernelspec": {
   "display_name": "jordi_2021",
   "language": "python",
   "name": "jordi_2021"
  },
  "language_info": {
   "codemirror_mode": {
    "name": "ipython",
    "version": 3
   },
   "file_extension": ".py",
   "mimetype": "text/x-python",
   "name": "python",
   "nbconvert_exporter": "python",
   "pygments_lexer": "ipython3",
   "version": "3.7.12"
  }
 },
 "nbformat": 4,
 "nbformat_minor": 5
}
