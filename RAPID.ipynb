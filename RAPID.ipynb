{
 "cells": [
  {
   "cell_type": "markdown",
   "id": "8caed5e4-4c43-4ee9-8566-5a5c6b209a71",
   "metadata": {
    "tags": []
   },
   "source": [
    "#### Plot RAPID data"
   ]
  },
  {
   "cell_type": "code",
   "execution_count": null,
   "id": "e4c8441d-94f4-4198-bc3d-a8b49fdba01c",
   "metadata": {},
   "outputs": [],
   "source": [
    "import os\n",
    "# Activate the venv\n",
    "venv_dir = os.path.join(os.path.expanduser(\"~\"), \"nb-venvs/venv-notebook\")\n",
    "activate_file = os.path.join(venv_dir, \"bin\", \"activate_this.py\")\n",
    "exec(open(activate_file).read(), dict(__file__=activate_file))\n",
    "\n",
    "from netCDF4 import Dataset\n",
    "import numpy as np\n",
    "from scipy.integrate import quad\n",
    "import matplotlib.pyplot as plt\n",
    "import cftime\n",
    "%matplotlib inline"
   ]
  },
  {
   "cell_type": "markdown",
   "id": "c02ba8aa-ea11-4bfd-94bb-bc820bfc7a24",
   "metadata": {
    "jp-MarkdownHeadingCollapsed": true,
    "tags": []
   },
   "source": [
    "#### Timeseries"
   ]
  },
  {
   "cell_type": "code",
   "execution_count": null,
   "id": "5d30d028-b1be-4cad-b2d4-a47ee27b305f",
   "metadata": {},
   "outputs": [],
   "source": [
    "outfile = ('/home/users/jordi/RAPID_data/moc_transports.nc')\n",
    "ncid = Dataset(outfile,'r')\n",
    "\n",
    "umo  = ncid.variables['t_umo10'][:]\n",
    "gs  = ncid.variables['t_gs10'][:]\n",
    "ekm  = ncid.variables['t_ek10'][:]\n",
    "moc   = ncid.variables['moc_mar_hc10'][:]\n",
    "tr   = ncid.variables['t_therm10'][:]\n",
    "iw   = ncid.variables['t_aiw10'][:]\n",
    "uNADW   = ncid.variables['t_ud10'][:]\n",
    "lNADW   = ncid.variables['t_ld10'][:]\n",
    "AABW   = ncid.variables['t_bw10'][:]\n",
    "\n",
    "ncid.close()\n",
    "\n",
    "plt.figure(1)\n",
    "plt.plot(umo[:],label='Upper mid-ocean')\n",
    "plt.plot(gs[:],label='Florida Strait')\n",
    "plt.plot(ekm[:],label='Ekman')\n",
    "plt.xlabel('Time (days)')\n",
    "plt.ylabel('Transport (Sv)')\n",
    "plt.legend(bbox_to_anchor=(1.0,0.3,0.4,0.5), loc='center')\n",
    "\n",
    "plt.figure(2)\n",
    "plt.plot(tr[:],label='tr')\n",
    "plt.plot(iw[:],label='iw')\n",
    "plt.plot(uNADW[:],label='uNADW')\n",
    "plt.plot(lNADW[:],label='lNADW')\n",
    "plt.plot(AABW[:],label='AABW')\n",
    "plt.xlabel('Time (days)')\n",
    "plt.ylabel('Transport (Sv)')\n",
    "plt.legend(bbox_to_anchor=(1.0,0.3,0.4,0.5), loc='center')\n",
    "\n",
    "plt.figure(3)\n",
    "plt.plot(moc[:])\n",
    "plt.xlabel('Time (days)')\n",
    "plt.ylabel('Transport (Sv)')"
   ]
  },
  {
   "cell_type": "markdown",
   "id": "7e950010-ca8f-4218-ad9a-91bbd0ae5611",
   "metadata": {
    "jp-MarkdownHeadingCollapsed": true,
    "tags": []
   },
   "source": [
    "#### Overturning stream function"
   ]
  },
  {
   "cell_type": "code",
   "execution_count": null,
   "id": "fe5a79ec-9317-47ff-9f49-0009fad3c8f4",
   "metadata": {},
   "outputs": [],
   "source": [
    "outfile = ('/home/users/jordi/RAPID_data/moc_vertical.nc')\n",
    "ncid = Dataset(outfile,'r')\n",
    "\n",
    "sf = ncid.variables['stream_function_mar'][:,:]\n",
    "t = ncid.variables['time'][:]\n",
    "z = ncid.variables['depth'][:]\n",
    "ncid.close()\n",
    "\n",
    "sfmean = np.mean(sf,axis=1)\n",
    "    \n",
    "plt.plot(sfmean,z)\n",
    "plt.gca().invert_yaxis()\n",
    "plt.xlabel('Transport (Sv)')\n",
    "plt.ylabel('Depth (m)')"
   ]
  },
  {
   "cell_type": "code",
   "execution_count": null,
   "id": "7309d298-2506-460c-b6b2-81f753e0d2e0",
   "metadata": {},
   "outputs": [],
   "source": []
  }
 ],
 "metadata": {
  "kernelspec": {
   "display_name": "Python 3 + Jaspy",
   "language": "python",
   "name": "jaspy"
  },
  "language_info": {
   "codemirror_mode": {
    "name": "ipython",
    "version": 3
   },
   "file_extension": ".py",
   "mimetype": "text/x-python",
   "name": "python",
   "nbconvert_exporter": "python",
   "pygments_lexer": "ipython3",
   "version": "3.8.12"
  }
 },
 "nbformat": 4,
 "nbformat_minor": 5
}
